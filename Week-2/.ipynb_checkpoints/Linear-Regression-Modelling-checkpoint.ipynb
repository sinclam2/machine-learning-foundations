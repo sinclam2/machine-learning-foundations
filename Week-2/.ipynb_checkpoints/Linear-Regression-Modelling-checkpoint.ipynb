{
 "cells": [
  {
   "cell_type": "markdown",
   "metadata": {},
   "source": [
    "- We want to use a house's features (e.g. square footage, bathrooms, etc.)\n",
    "    - We want to use these features to predict the sales price of the house"
   ]
  },
  {
   "cell_type": "markdown",
   "metadata": {},
   "source": [
    "**What is the goal, and how might you naively address it?**\n",
    "\n",
    "- I want to know the value of my house\n",
    "\n",
    "- I could look at recent sales in my neighborhood to estimate what I think mine is worth\n",
    "    - Let's say I record 1) the sales price and 2) the size of the house\n",
    "    \n",
    "![](images/1.PNG)"
   ]
  },
  {
   "cell_type": "markdown",
   "metadata": {},
   "source": [
    "**Terminology**\n",
    "\n",
    "- The x-variable is called the **feature** or **predictor**\n",
    "- The y-variable is called the **observation** or **response variable**"
   ]
  },
  {
   "cell_type": "markdown",
   "metadata": {},
   "source": [
    "**Linear Regression**\n",
    "\n",
    "- We fit a line to the data\n",
    "\n",
    "![](images/2.PNG)"
   ]
  },
  {
   "cell_type": "markdown",
   "metadata": {},
   "source": [
    "- $w_{0}$ and $w_{1}$ are called the **parameters** of our model\n",
    "    - That's why we'll call the model $f_{w}(x)$, where $w=(w_{0},w_{1})$"
   ]
  },
  {
   "cell_type": "markdown",
   "metadata": {},
   "source": [
    "**How did we fit the line?**\n",
    "\n",
    "- We fit it using the **residual sum of squares (RSS)**\n",
    "    - We loop through the different possible values of $w_{0}$ and $w_{1}$ and minimized the squared error"
   ]
  },
  {
   "cell_type": "markdown",
   "metadata": {},
   "source": [
    "**How do we use the line to predict the value of the house?**\n",
    "\n",
    "- We can just look for the value of the line at our square footage\n",
    "\n",
    "![](images/3.PNG)"
   ]
  },
  {
   "cell_type": "markdown",
   "metadata": {},
   "source": [
    "**Is our fitted line sufficient?**"
   ]
  }
 ],
 "metadata": {
  "kernelspec": {
   "display_name": "Python 2",
   "language": "python",
   "name": "python2"
  },
  "language_info": {
   "codemirror_mode": {
    "name": "ipython",
    "version": 2
   },
   "file_extension": ".py",
   "mimetype": "text/x-python",
   "name": "python",
   "nbconvert_exporter": "python",
   "pygments_lexer": "ipython2",
   "version": "2.7.11"
  }
 },
 "nbformat": 4,
 "nbformat_minor": 0
}
